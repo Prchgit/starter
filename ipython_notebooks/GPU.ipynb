{
  "metadata": {
    "kernelspec": {
      "name": "py-dku-containerized-venv-cuda10-cuda10",
      "display_name": "Python in cuda10 (env cuda10)",
      "language": "python"
    },
    "creator": "admin",
    "createdOn": 1643168157867,
    "tags": [],
    "customFields": {},
    "hide_input": false,
    "modifiedBy": "admin"
  },
  "nbformat": 4,
  "nbformat_minor": 1,
  "cells": [
    {
      "execution_count": 0,
      "cell_type": "code",
      "metadata": {},
      "source": [
        "%pylab inline"
      ],
      "outputs": []
    },
    {
      "execution_count": 0,
      "cell_type": "code",
      "metadata": {},
      "source": [
        "import dataiku "
      ],
      "outputs": []
    },
    {
      "execution_count": 0,
      "cell_type": "code",
      "metadata": {},
      "source": [
        "# TensorFlow and keras\nimport tensorflow as tf\nimport keras\nimport numpy as np\nimport matplotlib.pyplot as plt\nfrom tensorflow.python.client import device_lib\nprint(tf.__version__)\n\n# GPU available?\nprint(device_lib.list_local_devices())"
      ],
      "outputs": []
    },
    {
      "execution_count": 0,
      "cell_type": "code",
      "metadata": {},
      "source": [
        "# Example: load a DSS dataset as a Pandas dataframe\nmydataset \u003d dataiku.Dataset(\"mydataset\")\nmydataset_df \u003d mydataset.get_dataframe()"
      ],
      "outputs": []
    },
    {
      "execution_count": 0,
      "cell_type": "code",
      "metadata": {},
      "source": [
        ""
      ],
      "outputs": []
    }
  ]
}