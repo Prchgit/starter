{
  "metadata": {
    "kernelspec": {
      "name": "py-dku-containerized-venv-cuda10-cuda10",
      "display_name": "Python in cuda10 (env cuda10)",
      "language": "python"
    },
    "creator": "admin",
    "createdOn": 1643168157867,
    "tags": [],
    "customFields": {},
    "hide_input": false,
    "modifiedBy": "admin",
    "language_info": {
      "name": "python",
      "version": "3.6.8",
      "mimetype": "text/x-python",
      "codemirror_mode": {
        "name": "ipython",
        "version": 3
      },
      "pygments_lexer": "ipython3",
      "nbconvert_exporter": "python",
      "file_extension": ".py"
    }
  },
  "nbformat": 4,
  "nbformat_minor": 1,
  "cells": [
    {
      "execution_count": 0,
      "cell_type": "code",
      "metadata": {},
      "source": [
        "%pylab inline"
      ],
      "outputs": []
    },
    {
      "execution_count": 1,
      "cell_type": "code",
      "metadata": {},
      "source": [
        "import dataiku "
      ],
      "outputs": []
    },
    {
      "execution_count": 3,
      "cell_type": "code",
      "metadata": {},
      "source": [
        "# TensorFlow and keras\nimport tensorflow as tf\nimport keras\nimport numpy as np\nfrom tensorflow.python.client import device_lib\nprint(tf.__version__)\n\n# GPU available?\nprint(device_lib.list_local_devices())"
      ],
      "outputs": [
        {
          "output_type": "stream",
          "text": "1.15.5\n[name: \"/device:CPU:0\"\ndevice_type: \"CPU\"\nmemory_limit: 268435456\nlocality {\n}\nincarnation: 16530648910043896337\n, name: \"/device:XLA_CPU:0\"\ndevice_type: \"XLA_CPU\"\nmemory_limit: 17179869184\nlocality {\n}\nincarnation: 17707314354774260731\nphysical_device_desc: \"device: XLA_CPU device\"\n, name: \"/device:XLA_GPU:0\"\ndevice_type: \"XLA_GPU\"\nmemory_limit: 17179869184\nlocality {\n}\nincarnation: 2315861979939397466\nphysical_device_desc: \"device: XLA_GPU device\"\n]\n",
          "name": "stdout"
        }
      ]
    },
    {
      "execution_count": 0,
      "cell_type": "code",
      "metadata": {},
      "source": [
        "fashion_mnist \u003d keras.datasets.fashion_mnist\n(train_images, train_labels), (test_images, test_labels) \u003d fashion_mnist.load_data()\n\nclass_names \u003d [\u0027T-shirt/top\u0027, \u0027Trouser\u0027, \u0027Pullover\u0027, \u0027Dress\u0027, \u0027Coat\u0027, \n               \u0027Sandal\u0027, \u0027Shirt\u0027, \u0027Sneaker\u0027, \u0027Bag\u0027, \u0027Ankle boot\u0027]\n\ntrain_images \u003d train_images / 255.0\ntest_images \u003d test_images / 255.0\n\n# define and train the model\nmodel \u003d keras.Sequential([\n    keras.layers.Flatten(input_shape\u003d(28, 28)),\n    keras.layers.Dense(8192, activation\u003dtf.nn.relu),\n    keras.layers.Dense(4096, activation\u003dtf.nn.softmax)\n])\n\nmodel.compile(optimizer\u003d\u0027adam\u0027,\n              loss\u003d\u0027sparse_categorical_crossentropy\u0027,\n              metrics\u003d[\u0027accuracy\u0027])\n\nmodel.fit(train_images, train_labels, epochs\u003d5)"
      ],
      "outputs": [
        {
          "output_type": "stream",
          "text": "Downloading data from http://fashion-mnist.s3-website.eu-central-1.amazonaws.com/train-labels-idx1-ubyte.gz\n32768/29515 [\u003d\u003d\u003d\u003d\u003d\u003d\u003d\u003d\u003d\u003d\u003d\u003d\u003d\u003d\u003d\u003d\u003d\u003d\u003d\u003d\u003d\u003d\u003d\u003d\u003d\u003d\u003d\u003d\u003d\u003d\u003d\u003d\u003d] - 0s 5us/step\nDownloading data from http://fashion-mnist.s3-website.eu-central-1.amazonaws.com/train-images-idx3-ubyte.gz\n26427392/26421880 [\u003d\u003d\u003d\u003d\u003d\u003d\u003d\u003d\u003d\u003d\u003d\u003d\u003d\u003d\u003d\u003d\u003d\u003d\u003d\u003d\u003d\u003d\u003d\u003d\u003d\u003d\u003d\u003d\u003d\u003d] - 3s 0us/step\nDownloading data from http://fashion-mnist.s3-website.eu-central-1.amazonaws.com/t10k-labels-idx1-ubyte.gz\n8192/5148 [\u003d\u003d\u003d\u003d\u003d\u003d\u003d\u003d\u003d\u003d\u003d\u003d\u003d\u003d\u003d\u003d\u003d\u003d\u003d\u003d\u003d\u003d\u003d\u003d\u003d\u003d\u003d\u003d\u003d\u003d\u003d\u003d\u003d\u003d\u003d\u003d\u003d\u003d\u003d\u003d\u003d\u003d\u003d\u003d\u003d\u003d\u003d] - 0s 0us/step\nDownloading data from http://fashion-mnist.s3-website.eu-central-1.amazonaws.com/t10k-images-idx3-ubyte.gz\n4423680/4422102 [\u003d\u003d\u003d\u003d\u003d\u003d\u003d\u003d\u003d\u003d\u003d\u003d\u003d\u003d\u003d\u003d\u003d\u003d\u003d\u003d\u003d\u003d\u003d\u003d\u003d\u003d\u003d\u003d\u003d\u003d] - 1s 0us/step\nWARNING:tensorflow:From /opt/dataiku/code-env/lib64/python3.6/site-packages/tensorflow_core/python/ops/resource_variable_ops.py:1630: calling BaseResourceVariable.__init__ (from tensorflow.python.ops.resource_variable_ops) with constraint is deprecated and will be removed in a future version.\nInstructions for updating:\nIf using Keras pass *_constraint arguments to layers.\nWARNING:tensorflow:From /opt/dataiku/code-env/lib/python3.6/site-packages/keras/backend/tensorflow_backend.py:422: The name tf.global_variables is deprecated. Please use tf.compat.v1.global_variables instead.\n\nEpoch 1/5\n20160/60000 [\u003d\u003d\u003d\u003d\u003d\u003d\u003d\u003d\u003d\u003e....................] - ETA: 6:04 - loss: 0.6581 - accuracy: 0.7817",
          "name": "stdout"
        }
      ]
    },
    {
      "execution_count": 0,
      "cell_type": "code",
      "metadata": {},
      "source": [
        ""
      ],
      "outputs": []
    }
  ]
}