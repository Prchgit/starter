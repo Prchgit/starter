{
  "metadata": {
    "kernelspec": {
      "name": "py-dku-containerized-venv-wdc-eks-default",
      "display_name": "Python in eks-default (env wdc)",
      "language": "python"
    },
    "creator": "admin",
    "createdOn": 1637654666895,
    "tags": [],
    "customFields": {},
    "hide_input": false,
    "language_info": {
      "name": "python",
      "version": "3.6.8",
      "mimetype": "text/x-python",
      "codemirror_mode": {
        "name": "ipython",
        "version": 3
      },
      "pygments_lexer": "ipython3",
      "nbconvert_exporter": "python",
      "file_extension": ".py"
    },
    "modifiedBy": "admin"
  },
  "nbformat": 4,
  "nbformat_minor": 1,
  "cells": [
    {
      "execution_count": 0,
      "cell_type": "code",
      "metadata": {},
      "source": [
        "%pylab inline"
      ],
      "outputs": []
    },
    {
      "execution_count": 2,
      "cell_type": "code",
      "metadata": {},
      "source": [
        "import dataiku\nfrom dataiku import pandasutils as pdu\nimport pandas as pd\nimport cv2"
      ],
      "outputs": []
    },
    {
      "execution_count": 4,
      "cell_type": "code",
      "metadata": {},
      "source": [
        "# Example: load a DSS dataset as a Pandas dataframe\nprint(cv2.getBuildInformation())"
      ],
      "outputs": [
        {
          "output_type": "stream",
          "text": "\nGeneral configuration for OpenCV 4.5.4 \u003d\u003d\u003d\u003d\u003d\u003d\u003d\u003d\u003d\u003d\u003d\u003d\u003d\u003d\u003d\u003d\u003d\u003d\u003d\u003d\u003d\u003d\u003d\u003d\u003d\u003d\u003d\u003d\u003d\u003d\u003d\u003d\u003d\u003d\u003d\u003d\u003d\n  Version control:               4.5.4-dirty\n\n  Platform:\n    Timestamp:                   2021-11-19T16:25:28Z\n    Host:                        Linux 5.11.0-1021-azure x86_64\n    CMake:                       3.22.0\n    CMake generator:             Unix Makefiles\n    CMake build tool:            /bin/gmake\n    Configuration:               Release\n\n  CPU/HW features:\n    Baseline:                    SSE SSE2 SSE3\n      requested:                 SSE3\n    Dispatched code generation:  SSE4_1 SSE4_2 FP16 AVX AVX2 AVX512_SKX\n      requested:                 SSE4_1 SSE4_2 AVX FP16 AVX2 AVX512_SKX\n      SSE4_1 (15 files):         + SSSE3 SSE4_1\n      SSE4_2 (1 files):          + SSSE3 SSE4_1 POPCNT SSE4_2\n      FP16 (0 files):            + SSSE3 SSE4_1 POPCNT SSE4_2 FP16 AVX\n      AVX (4 files):             + SSSE3 SSE4_1 POPCNT SSE4_2 AVX\n      AVX2 (30 files):           + SSSE3 SSE4_1 POPCNT SSE4_2 FP16 FMA3 AVX AVX2\n      AVX512_SKX (5 files):      + SSSE3 SSE4_1 POPCNT SSE4_2 FP16 FMA3 AVX AVX2 AVX_512F AVX512_COMMON AVX512_SKX\n\n  C/C++:\n    Built as dynamic libs?:      NO\n    C++ standard:                11\n    C++ Compiler:                /usr/lib/ccache/compilers/c++  (ver 10.2.1)\n    C++ flags (Release):         -Wl,-strip-all   -fsigned-char -W -Wall -Werror\u003dreturn-type -Werror\u003dnon-virtual-dtor -Werror\u003daddress -Werror\u003dsequence-point -Wformat -Werror\u003dformat-security -Wmissing-declarations -Wundef -Winit-self -Wpointer-arith -Wshadow -Wsign-promo -Wuninitialized -Wsuggest-override -Wno-delete-non-virtual-dtor -Wno-comment -Wimplicit-fallthrough\u003d3 -Wno-strict-overflow -fdiagnostics-show-option -Wno-long-long -pthread -fomit-frame-pointer -ffunction-sections -fdata-sections  -msse -msse2 -msse3 -fvisibility\u003dhidden -fvisibility-inlines-hidden -O3 -DNDEBUG  -DNDEBUG\n    C++ flags (Debug):           -Wl,-strip-all   -fsigned-char -W -Wall -Werror\u003dreturn-type -Werror\u003dnon-virtual-dtor -Werror\u003daddress -Werror\u003dsequence-point -Wformat -Werror\u003dformat-security -Wmissing-declarations -Wundef -Winit-self -Wpointer-arith -Wshadow -Wsign-promo -Wuninitialized -Wsuggest-override -Wno-delete-non-virtual-dtor -Wno-comment -Wimplicit-fallthrough\u003d3 -Wno-strict-overflow -fdiagnostics-show-option -Wno-long-long -pthread -fomit-frame-pointer -ffunction-sections -fdata-sections  -msse -msse2 -msse3 -fvisibility\u003dhidden -fvisibility-inlines-hidden -g  -O0 -DDEBUG -D_DEBUG\n    C Compiler:                  /usr/lib/ccache/compilers/cc\n    C flags (Release):           -Wl,-strip-all   -fsigned-char -W -Wall -Werror\u003dreturn-type -Werror\u003dnon-virtual-dtor -Werror\u003daddress -Werror\u003dsequence-point -Wformat -Werror\u003dformat-security -Wmissing-declarations -Wmissing-prototypes -Wstrict-prototypes -Wundef -Winit-self -Wpointer-arith -Wshadow -Wuninitialized -Wno-comment -Wno-strict-overflow -fdiagnostics-show-option -Wno-long-long -pthread -fomit-frame-pointer -ffunction-sections -fdata-sections  -msse -msse2 -msse3 -fvisibility\u003dhidden -O3 -DNDEBUG  -DNDEBUG\n    C flags (Debug):             -Wl,-strip-all   -fsigned-char -W -Wall -Werror\u003dreturn-type -Werror\u003dnon-virtual-dtor -Werror\u003daddress -Werror\u003dsequence-point -Wformat -Werror\u003dformat-security -Wmissing-declarations -Wmissing-prototypes -Wstrict-prototypes -Wundef -Winit-self -Wpointer-arith -Wshadow -Wuninitialized -Wno-comment -Wno-strict-overflow -fdiagnostics-show-option -Wno-long-long -pthread -fomit-frame-pointer -ffunction-sections -fdata-sections  -msse -msse2 -msse3 -fvisibility\u003dhidden -g  -O0 -DDEBUG -D_DEBUG\n    Linker flags (Release):      -Wl,--exclude-libs,libippicv.a -Wl,--exclude-libs,libippiw.a -L/root/ffmpeg_build/lib  -Wl,--gc-sections -Wl,--as-needed  \n    Linker flags (Debug):        -Wl,--exclude-libs,libippicv.a -Wl,--exclude-libs,libippiw.a -L/root/ffmpeg_build/lib  -Wl,--gc-sections -Wl,--as-needed  \n    ccache:                      YES\n    Precompiled headers:         NO\n    Extra dependencies:          /lib64/libopenblas.so Qt5::Core Qt5::Gui Qt5::Widgets Qt5::Test Qt5::Concurrent /lib64/libpng.so /lib64/libz.so dl m pthread rt\n    3rdparty dependencies:       libprotobuf ade ittnotify libjpeg-turbo libwebp libtiff libopenjp2 IlmImf quirc ippiw ippicv\n\n  OpenCV modules:\n    To be built:                 calib3d core dnn features2d flann gapi highgui imgcodecs imgproc ml objdetect photo python3 stitching video videoio\n    Disabled:                    world\n    Disabled by dependency:      -\n    Unavailable:                 java python2 ts\n    Applications:                -\n    Documentation:               NO\n    Non-free algorithms:         NO\n\n  GUI:                           QT5\n    QT:                          YES (ver 5.15.0 )\n      QT OpenGL support:         NO\n    GTK+:                        NO\n    VTK support:                 NO\n\n  Media I/O: \n    ZLib:                        /lib64/libz.so (ver 1.2.7)\n    JPEG:                        libjpeg-turbo (ver 2.1.0-62)\n    WEBP:                        build (ver encoder: 0x020f)\n    PNG:                         /lib64/libpng.so (ver 1.5.13)\n    TIFF:                        build (ver 42 - 4.2.0)\n    JPEG 2000:                   build (ver 2.4.0)\n    OpenEXR:                     build (ver 2.3.0)\n    HDR:                         YES\n    SUNRASTER:                   YES\n    PXM:                         YES\n    PFM:                         YES\n\n  Video I/O:\n    DC1394:                      NO\n    FFMPEG:                      YES\n      avcodec:                   YES (58.91.100)\n      avformat:                  YES (58.45.100)\n      avutil:                    YES (56.51.100)\n      swscale:                   YES (5.7.100)\n      avresample:                NO\n    GStreamer:                   NO\n    v4l/v4l2:                    YES (linux/videodev2.h)\n\n  Parallel framework:            pthreads\n\n  Trace:                         YES (with Intel ITT)\n\n  Other third-party libraries:\n    Intel IPP:                   2020.0.0 Gold [2020.0.0]\n           at:                   /tmp/pip-req-build-w88qv8vs/_skbuild/linux-x86_64-3.6/cmake-build/3rdparty/ippicv/ippicv_lnx/icv\n    Intel IPP IW:                sources (2020.0.0)\n              at:                /tmp/pip-req-build-w88qv8vs/_skbuild/linux-x86_64-3.6/cmake-build/3rdparty/ippicv/ippicv_lnx/iw\n    VA:                          NO\n    Lapack:                      YES (/lib64/libopenblas.so)\n    Eigen:                       NO\n    Custom HAL:                  NO\n    Protobuf:                    build (3.5.1)\n\n  OpenCL:                        YES (no extra features)\n    Include path:                /tmp/pip-req-build-w88qv8vs/opencv/3rdparty/include/opencl/1.2\n    Link libraries:              Dynamic load\n\n  Python 3:\n    Interpreter:                 /opt/_internal/cpython-3.6.15/bin/python (ver 3.6.15)\n    Libraries:                   libpython3.6m.a (ver 3.6.15)\n    numpy:                       /tmp/pip-build-env-ut15bkrp/overlay/lib/python3.6/site-packages/numpy/core/include (ver 1.13.3)\n    install path:                python/cv2/python-3.6\n\n  Python (for build):            /bin/python2.7\n\n  Java:                          \n    ant:                         NO\n    JNI:                         NO\n    Java wrappers:               NO\n    Java tests:                  NO\n\n  Install to:                    /tmp/pip-req-build-w88qv8vs/_skbuild/linux-x86_64-3.6/cmake-install\n-----------------------------------------------------------------\n\n\n",
          "name": "stdout"
        }
      ]
    },
    {
      "execution_count": 0,
      "cell_type": "code",
      "metadata": {},
      "source": [
        ""
      ],
      "outputs": []
    }
  ]
}