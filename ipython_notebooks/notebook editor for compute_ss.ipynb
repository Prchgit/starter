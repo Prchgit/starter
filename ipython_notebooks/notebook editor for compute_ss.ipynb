{
  "nbformat": 4,
  "nbformat_minor": 0,
  "metadata": {
    "kernelspec": {
      "display_name": "Python in eks-default (env test36)",
      "language": "python",
      "name": "py-dku-containerized-venv-test36-eks-default"
    },
    "associatedRecipe": "compute_ss",
    "creator": "admin",
    "createdOn": 1642563053019,
    "tags": [
      "recipe-editor"
    ],
    "customFields": {}
  },
  "cells": [
    {
      "cell_type": "code",
      "metadata": {},
      "outputs": [],
      "execution_count": 0,
      "source": [
        "# -*- coding: utf-8 -*-\n",
        "import dataiku\n",
        "import pandas as pd, numpy as np\n",
        "from dataiku import pandasutils as pdu\n",
        "import time\n",
        "\n",
        "# Read recipe inputs\n",
        "revenue_prediction \u003d dataiku.Dataset(\"revenue_prediction\")\n",
        "revenue_prediction_df \u003d revenue_prediction.get_dataframe()\n",
        "time.sleep(300)\n",
        "\n",
        "# Compute recipe outputs from inputs\n",
        "# TODO: Replace this part by your actual code that computes the output, as a Pandas dataframe\n",
        "# NB: DSS also supports other kinds of APIs for reading and writing data. Please see doc.\n",
        "\n",
        "ss_df \u003d revenue_prediction_df # For this sample code, simply copy input to output\n",
        "\n",
        "\n",
        "# Write recipe outputs\n",
        "ss \u003d dataiku.Dataset(\"ss\")\n",
        "ss.write_with_schema(ss_df)"
      ]
    }
  ]
}