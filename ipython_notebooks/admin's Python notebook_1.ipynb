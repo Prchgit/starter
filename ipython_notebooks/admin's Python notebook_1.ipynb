{
  "metadata": {
    "kernelspec": {
      "name": "python3",
      "display_name": "Python 3",
      "language": "python"
    },
    "creator": "admin",
    "createdOn": 1637300835795,
    "tags": [],
    "customFields": {},
    "hide_input": false,
    "language_info": {
      "name": "python",
      "version": "3.6.8",
      "mimetype": "text/x-python",
      "codemirror_mode": {
        "name": "ipython",
        "version": 3
      },
      "pygments_lexer": "ipython3",
      "nbconvert_exporter": "python",
      "file_extension": ".py"
    },
    "modifiedBy": "admin"
  },
  "nbformat": 4,
  "nbformat_minor": 1,
  "cells": [
    {
      "execution_count": 0,
      "cell_type": "code",
      "metadata": {},
      "source": [
        "%pylab inline"
      ],
      "outputs": []
    },
    {
      "execution_count": 0,
      "cell_type": "code",
      "metadata": {},
      "source": [
        "import dataiku\nfrom dataiku import pandasutils as pdu\nimport pandas as pd"
      ],
      "outputs": []
    },
    {
      "execution_count": 0,
      "cell_type": "code",
      "metadata": {},
      "source": [
        "# Example: load a DSS dataset as a Pandas dataframe\nmydataset \u003d dataiku.Dataset(\"mydataset\")\nmydataset_df \u003d mydataset.get_dataframe()"
      ],
      "outputs": []
    },
    {
      "execution_count": 8,
      "cell_type": "code",
      "metadata": {},
      "source": [
        "import dataikuapi\n\napiKey \u003d \"QVQM945G9B7D5AJEV0CGM5LW7NGHGZDR\"\nhost \u003d \"https://ec2-13-212-82-30.ap-southeast-1.compute.amazonaws.com\"\nclient \u003d dataikuapi.DSSClient(host, apiKey)\nclient._session.verify \u003d False"
      ],
      "outputs": []
    },
    {
      "execution_count": 9,
      "cell_type": "code",
      "metadata": {},
      "source": [
        "client.list_users()"
      ],
      "outputs": [
        {
          "output_type": "stream",
          "text": "/opt/dataiku-dss-9.0.5/python36.packages/urllib3/connectionpool.py:988: InsecureRequestWarning: Unverified HTTPS request is being made to host \u0027ec2-13-212-82-30.ap-southeast-1.compute.amazonaws.com\u0027. Adding certificate verification is strongly advised. See: https://urllib3.readthedocs.io/en/latest/advanced-usage.html#ssl-warnings\n  InsecureRequestWarning,\n",
          "name": "stderr"
        },
        {
          "output_type": "execute_result",
          "execution_count": 9,
          "data": {
            "text/plain": "[{\u0027activeWebSocketSesssions\u0027: 3,\n  \u0027displayName\u0027: \u0027Administrator\u0027,\n  \u0027enabled\u0027: True,\n  \u0027groups\u0027: [\u0027administrators\u0027],\n  \u0027login\u0027: \u0027admin\u0027,\n  \u0027npsSurveySettings\u0027: {\u0027nextAction\u0027: 1639807811937, \u0027state\u0027: \u0027INITIAL\u0027},\n  \u0027objectImgHash\u0027: 0,\n  \u0027sourceType\u0027: \u0027LOCAL\u0027,\n  \u0027userProfile\u0027: \u0027DATA_SCIENTIST\u0027}]"
          },
          "metadata": {}
        }
      ]
    },
    {
      "execution_count": 0,
      "cell_type": "code",
      "metadata": {},
      "source": [
        ""
      ],
      "outputs": []
    }
  ]
}