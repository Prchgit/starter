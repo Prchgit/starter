{
  "metadata": {
    "kernelspec": {
      "name": "python3",
      "display_name": "Python 3",
      "language": "python"
    },
    "creator": "admin",
    "createdOn": 1637747009686,
    "tags": [],
    "customFields": {},
    "hide_input": false,
    "language_info": {
      "name": "python",
      "version": "3.6.8",
      "mimetype": "text/x-python",
      "codemirror_mode": {
        "name": "ipython",
        "version": 3
      },
      "pygments_lexer": "ipython3",
      "nbconvert_exporter": "python",
      "file_extension": ".py"
    },
    "modifiedBy": "admin"
  },
  "nbformat": 4,
  "nbformat_minor": 1,
  "cells": [
    {
      "execution_count": 0,
      "cell_type": "code",
      "metadata": {},
      "source": [
        "%pylab inline"
      ],
      "outputs": []
    },
    {
      "execution_count": 1,
      "cell_type": "code",
      "metadata": {},
      "source": [
        "import dataiku\nfrom dataiku import pandasutils as pdu\nimport pandas as pd"
      ],
      "outputs": []
    },
    {
      "execution_count": 0,
      "cell_type": "code",
      "metadata": {},
      "source": [
        "# Example: load a DSS dataset as a Pandas dataframe\nmydataset \u003d dataiku.Dataset(\"mydataset\")\nmydataset_df \u003d mydataset.get_dataframe()"
      ],
      "outputs": []
    },
    {
      "execution_count": 5,
      "cell_type": "code",
      "metadata": {},
      "source": [
        "client \u003d dataiku.api_client()\nuser_info \u003d client.get_user(\"admin\")"
      ],
      "outputs": []
    },
    {
      "execution_count": 8,
      "cell_type": "code",
      "metadata": {},
      "source": [
        "print(user_info.get_definition())"
      ],
      "outputs": [
        {
          "output_type": "stream",
          "text": "{\u0027adminProperties\u0027: {}, \u0027userProperties\u0027: {}, \u0027secrets\u0027: [], \u0027credentials\u0027: {}, \u0027activeWebSocketSesssions\u0027: 3, \u0027login\u0027: \u0027admin\u0027, \u0027sourceType\u0027: \u0027LOCAL\u0027, \u0027displayName\u0027: \u0027Administrator\u0027, \u0027groups\u0027: [\u0027administrators\u0027], \u0027userProfile\u0027: \u0027DATA_SCIENTIST\u0027, \u0027npsSurveySettings\u0027: {\u0027state\u0027: \u0027INITIAL\u0027, \u0027nextAction\u0027: 1639807811937}, \u0027enabled\u0027: True, \u0027objectImgHash\u0027: 0}\n",
          "name": "stdout"
        },
        {
          "output_type": "stream",
          "text": "/opt/dataiku-dss-9.0.5/python/dataikuapi/dss/admin.py:182: DeprecationWarning: DSSUser.get_definition is deprecated, please use get_settings\n  warnings.warn(\"DSSUser.get_definition is deprecated, please use get_settings\", DeprecationWarning)\n",
          "name": "stderr"
        }
      ]
    },
    {
      "execution_count": 0,
      "cell_type": "code",
      "metadata": {},
      "source": [
        ""
      ],
      "outputs": []
    }
  ]
}