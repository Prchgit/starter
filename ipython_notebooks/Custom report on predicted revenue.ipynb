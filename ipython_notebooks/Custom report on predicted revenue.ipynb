{
  "metadata": {
    "kernelspec": {
      "name": "python3",
      "display_name": "Python 3",
      "language": "python"
    },
    "language_info": {
      "name": "python",
      "version": "3.6.8",
      "mimetype": "text/x-python",
      "codemirror_mode": {
        "name": "ipython",
        "version": 3
      },
      "pygments_lexer": "ipython3",
      "nbconvert_exporter": "python",
      "file_extension": ".py"
    },
    "hide_input": false,
    "modifiedBy": "admin"
  },
  "nbformat": 4,
  "nbformat_minor": 1,
  "cells": [
    {
      "execution_count": 2,
      "cell_type": "code",
      "metadata": {},
      "source": [
        "import dataiku\nfrom dataiku import pandasutils as pdu\nimport pandas as pd\nimport sys\nfrom IPython.core.display import HTML\nfrom math import floor"
      ],
      "outputs": []
    },
    {
      "execution_count": 3,
      "cell_type": "code",
      "metadata": {},
      "source": [
        "## Example: load a DDS dataset as a Pandas data frame\nmydataset \u003d dataiku.Dataset(\"revenue_prediction\")\nmydataset_df \u003d mydataset.get_dataframe()"
      ],
      "outputs": []
    },
    {
      "execution_count": 4,
      "cell_type": "code",
      "metadata": {},
      "source": [
        "us_customers \u003d mydataset_df[mydataset_df.ip_country \u003d\u003d \u0027United States\u0027]"
      ],
      "outputs": []
    },
    {
      "execution_count": 30,
      "cell_type": "code",
      "metadata": {},
      "source": [
        "HTML(\"\u003cul\u003e\"\n    + \"\u003cli\u003e Average revenue expected per american customer : $ %d\u003c/li\u003e\" % floor(us_customers.prediction.mean())\n    + \"\u003cli\u003eTotal revenue expected in the U.S. : $ %d\u003c/li\u003e\" % floor(us_customers.prediction.sum())\n    + \"\u003c/ul\u003e\"\n    )"
      ],
      "outputs": [
        {
          "data": {
            "text/html": "\u003cul style\u003d\u0027font-size:1.5em;line-height:1.5em\u0027\u003e\u003cli\u003e Average revenue expected per american customer : $ 213\u003c/li\u003e\u003cli\u003eTotal revenue expected in the U.S. : $ 307773\u003c/li\u003e\u003c/ul\u003e",
            "text/plain": "\u003cIPython.core.display.HTML object\u003e"
          },
          "execution_count": 30,
          "metadata": {},
          "output_type": "execute_result"
        }
      ]
    },
    {
      "execution_count": 0,
      "cell_type": "code",
      "metadata": {
        "collapsed": true
      },
      "source": [
        "hello"
      ],
      "outputs": []
    }
  ]
}